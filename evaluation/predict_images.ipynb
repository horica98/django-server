{
 "cells": [
  {
   "cell_type": "code",
   "execution_count": 1,
   "metadata": {},
   "outputs": [
    {
     "name": "stderr",
     "output_type": "stream",
     "text": [
      "Using TensorFlow backend.\n"
     ]
    }
   ],
   "source": [
    "from os import listdir\n",
    "from os.path import isfile, join\n",
    "import re\n",
    "import tensorflow as tf\n",
    "from keras.preprocessing import image\n",
    "from sklearn import preprocessing\n",
    "import numpy as np\n",
    "import cv2\n",
    "\n",
    "def sorted_alphanumeric(data):\n",
    "    convert = lambda text: int(text) if text.isdigit() else text.lower()\n",
    "    alphanum_key = lambda key: [ convert(c) for c in re.split('([0-9]+)', key) ] \n",
    "    return sorted(data, key=alphanum_key)"
   ]
  },
  {
   "cell_type": "code",
   "execution_count": 2,
   "metadata": {},
   "outputs": [],
   "source": [
    "\n",
    "\n",
    "def model_evaluation():\n",
    "    f=r'D:\\LICENTA\\photos\\test3\\\\'\n",
    "    model = tf.keras.models.load_model(r'D:\\model\\model_operands_20_validation.h5')    \n",
    "\n",
    "    le = preprocessing.LabelEncoder()\n",
    "    character_curated = [ord(c) for c in '!%&()*+-./:;<=>[]{|}']\n",
    "    ids = le.fit_transform(character_curated)\n",
    "    \n",
    "    batch = np.empty((0,128,80,1))\n",
    "    i = 0;\n",
    "    file_names = listdir(f)\n",
    "    file_names = sorted_alphanumeric(file_names)\n",
    "    \n",
    "    for file_name in  file_names:\n",
    "#         print(file_name)\n",
    "        img = image.load_img(f + file_name, color_mode = \"grayscale\")\n",
    "        x = image.img_to_array(img)\n",
    "        x = np.expand_dims(x, axis=0)\n",
    "        batch = np.concatenate((batch, x))\n",
    "    classes = model.predict(batch, batch_size=32)\n",
    "    np.set_printoptions(threshold=np.inf)\n",
    "    \n",
    "    classes = np.vsplit(classes, classes.shape[0] / 15 )\n",
    "    classes_means = np.mean(classes, axis = 1)\n",
    "    classes = np.array(np.argmax(classes_means, axis = 1))\n",
    "    return classes, classes_means\n",
    "#     inversed = le.inverse_transform(classes)\n",
    "#     print(inversed)\n",
    "#     return \"\".join([chr(item) for item in inversed])    "
   ]
  },
  {
   "cell_type": "code",
   "execution_count": 3,
   "metadata": {},
   "outputs": [
    {
     "ename": "NameError",
     "evalue": "name 'model_evaluation' is not defined",
     "output_type": "error",
     "traceback": [
      "\u001b[1;31m---------------------------------------------------------------------------\u001b[0m",
      "\u001b[1;31mNameError\u001b[0m                                 Traceback (most recent call last)",
      "\u001b[1;32m<ipython-input-3-70ab2d2442fe>\u001b[0m in \u001b[0;36m<module>\u001b[1;34m\u001b[0m\n\u001b[1;32m----> 1\u001b[1;33m \u001b[0mclasses\u001b[0m\u001b[1;33m,\u001b[0m \u001b[0mclasses_means\u001b[0m \u001b[1;33m=\u001b[0m \u001b[0mmodel_evaluation\u001b[0m\u001b[1;33m(\u001b[0m\u001b[1;34mr'D:\\LICENTA\\photos\\test3\\\\'\u001b[0m\u001b[1;33m)\u001b[0m\u001b[1;33m\u001b[0m\u001b[1;33m\u001b[0m\u001b[0m\n\u001b[0m",
      "\u001b[1;31mNameError\u001b[0m: name 'model_evaluation' is not defined"
     ]
    }
   ],
   "source": [
    "# classes, classes_means = model_evaluation(r'D:\\LICENTA\\photos\\test3\\\\')"
   ]
  },
  {
   "cell_type": "code",
   "execution_count": null,
   "metadata": {},
   "outputs": [],
   "source": []
  }
 ],
 "metadata": {
  "kernelspec": {
   "display_name": "Python 3",
   "language": "python",
   "name": "python3"
  },
  "language_info": {
   "codemirror_mode": {
    "name": "ipython",
    "version": 3
   },
   "file_extension": ".py",
   "mimetype": "text/x-python",
   "name": "python",
   "nbconvert_exporter": "python",
   "pygments_lexer": "ipython3",
   "version": "3.7.7"
  }
 },
 "nbformat": 4,
 "nbformat_minor": 4
}
